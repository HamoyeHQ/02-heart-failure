{
  "nbformat": 4,
  "nbformat_minor": 0,
  "metadata": {
    "kernelspec": {
      "display_name": "Python 3",
      "language": "python",
      "name": "python3"
    },
    "language_info": {
      "codemirror_mode": {
        "name": "ipython",
        "version": 3
      },
      "file_extension": ".py",
      "mimetype": "text/x-python",
      "name": "python",
      "nbconvert_exporter": "python",
      "pygments_lexer": "ipython3",
      "version": "3.7.6"
    },
    "colab": {
      "name": "selected_model.ipynb",
      "provenance": []
    }
  },
  "cells": [
    {
      "cell_type": "code",
      "metadata": {
        "id": "4wTMOlNwRSwt"
      },
      "source": [
        "import pandas as pd\n",
        "import numpy as np\n",
        "from pandas import Series, DataFrame,read_csv\n",
        "from collections import Counter\n",
        "from sklearn.utils import shuffle"
      ],
      "execution_count": 1,
      "outputs": []
    },
    {
      "cell_type": "code",
      "metadata": {
        "id": "35HTOwC_RSw1",
        "outputId": "4491a07b-7535-44dc-9f44-1970251e5383",
        "colab": {
          "base_uri": "https://localhost:8080/",
          "height": 217
        }
      },
      "source": [
        "df = read_csv('heart_failure.csv')\n",
        "df.head()"
      ],
      "execution_count": 2,
      "outputs": [
        {
          "output_type": "execute_result",
          "data": {
            "text/html": [
              "<div>\n",
              "<style scoped>\n",
              "    .dataframe tbody tr th:only-of-type {\n",
              "        vertical-align: middle;\n",
              "    }\n",
              "\n",
              "    .dataframe tbody tr th {\n",
              "        vertical-align: top;\n",
              "    }\n",
              "\n",
              "    .dataframe thead th {\n",
              "        text-align: right;\n",
              "    }\n",
              "</style>\n",
              "<table border=\"1\" class=\"dataframe\">\n",
              "  <thead>\n",
              "    <tr style=\"text-align: right;\">\n",
              "      <th></th>\n",
              "      <th>age</th>\n",
              "      <th>anaemia</th>\n",
              "      <th>creatinine_phosphokinase</th>\n",
              "      <th>diabetes</th>\n",
              "      <th>ejection_fraction</th>\n",
              "      <th>high_blood_pressure</th>\n",
              "      <th>platelets</th>\n",
              "      <th>serum_creatinine</th>\n",
              "      <th>serum_sodium</th>\n",
              "      <th>sex</th>\n",
              "      <th>smoking</th>\n",
              "      <th>time</th>\n",
              "      <th>DEATH_EVENT</th>\n",
              "    </tr>\n",
              "  </thead>\n",
              "  <tbody>\n",
              "    <tr>\n",
              "      <th>0</th>\n",
              "      <td>75</td>\n",
              "      <td>0</td>\n",
              "      <td>582</td>\n",
              "      <td>0</td>\n",
              "      <td>20</td>\n",
              "      <td>1</td>\n",
              "      <td>265000.00</td>\n",
              "      <td>1.9</td>\n",
              "      <td>130</td>\n",
              "      <td>1</td>\n",
              "      <td>0</td>\n",
              "      <td>4</td>\n",
              "      <td>1</td>\n",
              "    </tr>\n",
              "    <tr>\n",
              "      <th>1</th>\n",
              "      <td>55</td>\n",
              "      <td>0</td>\n",
              "      <td>7861</td>\n",
              "      <td>0</td>\n",
              "      <td>38</td>\n",
              "      <td>0</td>\n",
              "      <td>263358.03</td>\n",
              "      <td>1.1</td>\n",
              "      <td>136</td>\n",
              "      <td>1</td>\n",
              "      <td>0</td>\n",
              "      <td>6</td>\n",
              "      <td>1</td>\n",
              "    </tr>\n",
              "    <tr>\n",
              "      <th>2</th>\n",
              "      <td>65</td>\n",
              "      <td>0</td>\n",
              "      <td>146</td>\n",
              "      <td>0</td>\n",
              "      <td>20</td>\n",
              "      <td>0</td>\n",
              "      <td>162000.00</td>\n",
              "      <td>1.3</td>\n",
              "      <td>129</td>\n",
              "      <td>1</td>\n",
              "      <td>1</td>\n",
              "      <td>7</td>\n",
              "      <td>1</td>\n",
              "    </tr>\n",
              "    <tr>\n",
              "      <th>3</th>\n",
              "      <td>50</td>\n",
              "      <td>1</td>\n",
              "      <td>111</td>\n",
              "      <td>0</td>\n",
              "      <td>20</td>\n",
              "      <td>0</td>\n",
              "      <td>210000.00</td>\n",
              "      <td>1.9</td>\n",
              "      <td>137</td>\n",
              "      <td>1</td>\n",
              "      <td>0</td>\n",
              "      <td>7</td>\n",
              "      <td>1</td>\n",
              "    </tr>\n",
              "    <tr>\n",
              "      <th>4</th>\n",
              "      <td>65</td>\n",
              "      <td>1</td>\n",
              "      <td>160</td>\n",
              "      <td>1</td>\n",
              "      <td>20</td>\n",
              "      <td>0</td>\n",
              "      <td>327000.00</td>\n",
              "      <td>2.7</td>\n",
              "      <td>116</td>\n",
              "      <td>0</td>\n",
              "      <td>0</td>\n",
              "      <td>8</td>\n",
              "      <td>1</td>\n",
              "    </tr>\n",
              "  </tbody>\n",
              "</table>\n",
              "</div>"
            ],
            "text/plain": [
              "   age  anaemia  creatinine_phosphokinase  ...  smoking  time  DEATH_EVENT\n",
              "0   75        0                       582  ...        0     4            1\n",
              "1   55        0                      7861  ...        0     6            1\n",
              "2   65        0                       146  ...        1     7            1\n",
              "3   50        1                       111  ...        0     7            1\n",
              "4   65        1                       160  ...        0     8            1\n",
              "\n",
              "[5 rows x 13 columns]"
            ]
          },
          "metadata": {
            "tags": []
          },
          "execution_count": 2
        }
      ]
    },
    {
      "cell_type": "code",
      "metadata": {
        "id": "O1eM060cTnML",
        "outputId": "743ac525-0354-464c-e789-86ecaf18bda6",
        "colab": {
          "base_uri": "https://localhost:8080/",
          "height": 217
        }
      },
      "source": [
        "# Re-assign the binary numbers to a boolean label (anaemia,diabetes,high_blood_pressure,sex,smoking)\n",
        "df['anaemia'] = np.where(df['anaemia'] == 1 ,True,False)\n",
        "df['diabetes'] = np.where(df['diabetes'] == 1, True, False)\n",
        "df['high_blood_pressure'] = np.where(df['high_blood_pressure'] == 1, True, False)\n",
        "df['smoking'] = np.where(df['smoking'] == 1, True, False)\n",
        "df['sex'] = np.where(df['sex'] == 1, 'Male','Female')\n",
        "df.head()"
      ],
      "execution_count": 3,
      "outputs": [
        {
          "output_type": "execute_result",
          "data": {
            "text/html": [
              "<div>\n",
              "<style scoped>\n",
              "    .dataframe tbody tr th:only-of-type {\n",
              "        vertical-align: middle;\n",
              "    }\n",
              "\n",
              "    .dataframe tbody tr th {\n",
              "        vertical-align: top;\n",
              "    }\n",
              "\n",
              "    .dataframe thead th {\n",
              "        text-align: right;\n",
              "    }\n",
              "</style>\n",
              "<table border=\"1\" class=\"dataframe\">\n",
              "  <thead>\n",
              "    <tr style=\"text-align: right;\">\n",
              "      <th></th>\n",
              "      <th>age</th>\n",
              "      <th>anaemia</th>\n",
              "      <th>creatinine_phosphokinase</th>\n",
              "      <th>diabetes</th>\n",
              "      <th>ejection_fraction</th>\n",
              "      <th>high_blood_pressure</th>\n",
              "      <th>platelets</th>\n",
              "      <th>serum_creatinine</th>\n",
              "      <th>serum_sodium</th>\n",
              "      <th>sex</th>\n",
              "      <th>smoking</th>\n",
              "      <th>time</th>\n",
              "      <th>DEATH_EVENT</th>\n",
              "    </tr>\n",
              "  </thead>\n",
              "  <tbody>\n",
              "    <tr>\n",
              "      <th>0</th>\n",
              "      <td>75</td>\n",
              "      <td>False</td>\n",
              "      <td>582</td>\n",
              "      <td>False</td>\n",
              "      <td>20</td>\n",
              "      <td>True</td>\n",
              "      <td>265000.00</td>\n",
              "      <td>1.9</td>\n",
              "      <td>130</td>\n",
              "      <td>Male</td>\n",
              "      <td>False</td>\n",
              "      <td>4</td>\n",
              "      <td>1</td>\n",
              "    </tr>\n",
              "    <tr>\n",
              "      <th>1</th>\n",
              "      <td>55</td>\n",
              "      <td>False</td>\n",
              "      <td>7861</td>\n",
              "      <td>False</td>\n",
              "      <td>38</td>\n",
              "      <td>False</td>\n",
              "      <td>263358.03</td>\n",
              "      <td>1.1</td>\n",
              "      <td>136</td>\n",
              "      <td>Male</td>\n",
              "      <td>False</td>\n",
              "      <td>6</td>\n",
              "      <td>1</td>\n",
              "    </tr>\n",
              "    <tr>\n",
              "      <th>2</th>\n",
              "      <td>65</td>\n",
              "      <td>False</td>\n",
              "      <td>146</td>\n",
              "      <td>False</td>\n",
              "      <td>20</td>\n",
              "      <td>False</td>\n",
              "      <td>162000.00</td>\n",
              "      <td>1.3</td>\n",
              "      <td>129</td>\n",
              "      <td>Male</td>\n",
              "      <td>True</td>\n",
              "      <td>7</td>\n",
              "      <td>1</td>\n",
              "    </tr>\n",
              "    <tr>\n",
              "      <th>3</th>\n",
              "      <td>50</td>\n",
              "      <td>True</td>\n",
              "      <td>111</td>\n",
              "      <td>False</td>\n",
              "      <td>20</td>\n",
              "      <td>False</td>\n",
              "      <td>210000.00</td>\n",
              "      <td>1.9</td>\n",
              "      <td>137</td>\n",
              "      <td>Male</td>\n",
              "      <td>False</td>\n",
              "      <td>7</td>\n",
              "      <td>1</td>\n",
              "    </tr>\n",
              "    <tr>\n",
              "      <th>4</th>\n",
              "      <td>65</td>\n",
              "      <td>True</td>\n",
              "      <td>160</td>\n",
              "      <td>True</td>\n",
              "      <td>20</td>\n",
              "      <td>False</td>\n",
              "      <td>327000.00</td>\n",
              "      <td>2.7</td>\n",
              "      <td>116</td>\n",
              "      <td>Female</td>\n",
              "      <td>False</td>\n",
              "      <td>8</td>\n",
              "      <td>1</td>\n",
              "    </tr>\n",
              "  </tbody>\n",
              "</table>\n",
              "</div>"
            ],
            "text/plain": [
              "   age  anaemia  creatinine_phosphokinase  ...  smoking  time  DEATH_EVENT\n",
              "0   75    False                       582  ...    False     4            1\n",
              "1   55    False                      7861  ...    False     6            1\n",
              "2   65    False                       146  ...     True     7            1\n",
              "3   50     True                       111  ...    False     7            1\n",
              "4   65     True                       160  ...    False     8            1\n",
              "\n",
              "[5 rows x 13 columns]"
            ]
          },
          "metadata": {
            "tags": []
          },
          "execution_count": 3
        }
      ]
    },
    {
      "cell_type": "markdown",
      "metadata": {
        "id": "bgtn8fq4qFMs"
      },
      "source": [
        "**Feature engineering based on the actual medical values expected from each feature**"
      ]
    },
    {
      "cell_type": "code",
      "metadata": {
        "id": "DOdPZVulRSw-"
      },
      "source": [
        "#cpk normal values from 10 to 120 micrograms per liter\n",
        "def set_cpk(row):\n",
        "    if row['creatinine_phosphokinase'] >= 10 and row['creatinine_phosphokinase'] <= 120:\n",
        "        return 'Normal'\n",
        "    else:\n",
        "        return 'Abnormal'\n",
        "df = df.assign(cp_desc = df.apply(set_cpk, axis =1))\n"
      ],
      "execution_count": 4,
      "outputs": []
    },
    {
      "cell_type": "code",
      "metadata": {
        "id": "lFRAYW_URSxF",
        "outputId": "b1af33fa-09c3-4029-d039-64a7f160dd4a",
        "colab": {
          "base_uri": "https://localhost:8080/"
        }
      },
      "source": [
        "df.cp_desc.value_counts()"
      ],
      "execution_count": 5,
      "outputs": [
        {
          "output_type": "execute_result",
          "data": {
            "text/plain": [
              "Abnormal    222\n",
              "Normal       77\n",
              "Name: cp_desc, dtype: int64"
            ]
          },
          "metadata": {
            "tags": []
          },
          "execution_count": 5
        }
      ]
    },
    {
      "cell_type": "code",
      "metadata": {
        "id": "dfIWCEIsRSxL"
      },
      "source": [
        "def set_eject_fraction(row):\n",
        "    if row['ejection_fraction'] > 50 and row['ejection_fraction'] <= 75:\n",
        "        return 'Normal'\n",
        "    else:\n",
        "        return 'Abnormal'\n",
        "df['ejection_fraction_desc'] =  df.apply(set_eject_fraction, axis =1)"
      ],
      "execution_count": 6,
      "outputs": []
    },
    {
      "cell_type": "code",
      "metadata": {
        "id": "kuT1jnDtRSxQ"
      },
      "source": [
        "def set_platelets(row):\n",
        "    if row['sex'] == 'Female':\n",
        "        if row['platelets'] >= 157000 and row['platelets'] <= 371000:\n",
        "            return 'Normal'\n",
        "        else:\n",
        "            return 'Abnormal'\n",
        "    elif row['sex'] == 'Male':\n",
        "        if row['platelets'] >= 135000 and row['platelets'] <= 317000:\n",
        "            return 'Normal'\n",
        "        else:\n",
        "            return 'Abnormal'\n",
        "df['platelets_desc'] = df.apply(set_platelets, axis = 1)"
      ],
      "execution_count": 7,
      "outputs": []
    },
    {
      "cell_type": "code",
      "metadata": {
        "id": "R9KsYUoqRSxV"
      },
      "source": [
        "def set_sodium(row):\n",
        "    if row['serum_sodium'] >= 135 and row['serum_sodium'] <= 145:\n",
        "        return 'Normal'\n",
        "    else:\n",
        "        return 'Abnormal'\n",
        "df['sodium_desc'] = df.apply(set_sodium, axis =1)"
      ],
      "execution_count": 8,
      "outputs": []
    },
    {
      "cell_type": "code",
      "metadata": {
        "id": "T--zpayrRSxb"
      },
      "source": [
        "def set_creatinine(row):\n",
        "    if row['sex'] == 'Female':\n",
        "        if  row['serum_creatinine'] >= 0.5 and  row['serum_creatinine'] <= 1.1:\n",
        "            return 'Normal'\n",
        "        else:\n",
        "            return 'Abnormal'\n",
        "    elif row['sex'] == 'Male':\n",
        "        if  row['serum_creatinine'] >= 0.6 and row['serum_creatinine'] <= 1.2:\n",
        "            return 'Normal'\n",
        "        else:\n",
        "            return 'Abnormal'\n",
        "df['serum_creatinine_desc'] = df.apply(set_creatinine, axis = 1)"
      ],
      "execution_count": 9,
      "outputs": []
    },
    {
      "cell_type": "code",
      "metadata": {
        "id": "qI_XVN-mRSxg",
        "outputId": "5eae94bd-8957-4265-a158-685abf03844f",
        "colab": {
          "base_uri": "https://localhost:8080/"
        }
      },
      "source": [
        "df.info()"
      ],
      "execution_count": 10,
      "outputs": [
        {
          "output_type": "stream",
          "text": [
            "<class 'pandas.core.frame.DataFrame'>\n",
            "RangeIndex: 299 entries, 0 to 298\n",
            "Data columns (total 18 columns):\n",
            " #   Column                    Non-Null Count  Dtype  \n",
            "---  ------                    --------------  -----  \n",
            " 0   age                       299 non-null    int64  \n",
            " 1   anaemia                   299 non-null    bool   \n",
            " 2   creatinine_phosphokinase  299 non-null    int64  \n",
            " 3   diabetes                  299 non-null    bool   \n",
            " 4   ejection_fraction         299 non-null    int64  \n",
            " 5   high_blood_pressure       299 non-null    bool   \n",
            " 6   platelets                 299 non-null    float64\n",
            " 7   serum_creatinine          299 non-null    float64\n",
            " 8   serum_sodium              299 non-null    int64  \n",
            " 9   sex                       299 non-null    object \n",
            " 10  smoking                   299 non-null    bool   \n",
            " 11  time                      299 non-null    int64  \n",
            " 12  DEATH_EVENT               299 non-null    int64  \n",
            " 13  cp_desc                   299 non-null    object \n",
            " 14  ejection_fraction_desc    299 non-null    object \n",
            " 15  platelets_desc            299 non-null    object \n",
            " 16  sodium_desc               299 non-null    object \n",
            " 17  serum_creatinine_desc     299 non-null    object \n",
            "dtypes: bool(4), float64(2), int64(6), object(6)\n",
            "memory usage: 34.0+ KB\n"
          ],
          "name": "stdout"
        }
      ]
    },
    {
      "cell_type": "code",
      "metadata": {
        "id": "OtJHMw6SRSxu",
        "outputId": "7e303c6d-903d-4130-81d4-f36a5acbc260",
        "colab": {
          "base_uri": "https://localhost:8080/",
          "height": 127
        }
      },
      "source": [
        "x = df.drop('DEATH_EVENT', axis = 1)\n",
        "y = df['DEATH_EVENT']\n",
        "x.head(2)"
      ],
      "execution_count": 11,
      "outputs": [
        {
          "output_type": "execute_result",
          "data": {
            "text/html": [
              "<div>\n",
              "<style scoped>\n",
              "    .dataframe tbody tr th:only-of-type {\n",
              "        vertical-align: middle;\n",
              "    }\n",
              "\n",
              "    .dataframe tbody tr th {\n",
              "        vertical-align: top;\n",
              "    }\n",
              "\n",
              "    .dataframe thead th {\n",
              "        text-align: right;\n",
              "    }\n",
              "</style>\n",
              "<table border=\"1\" class=\"dataframe\">\n",
              "  <thead>\n",
              "    <tr style=\"text-align: right;\">\n",
              "      <th></th>\n",
              "      <th>age</th>\n",
              "      <th>anaemia</th>\n",
              "      <th>creatinine_phosphokinase</th>\n",
              "      <th>diabetes</th>\n",
              "      <th>ejection_fraction</th>\n",
              "      <th>high_blood_pressure</th>\n",
              "      <th>platelets</th>\n",
              "      <th>serum_creatinine</th>\n",
              "      <th>serum_sodium</th>\n",
              "      <th>sex</th>\n",
              "      <th>smoking</th>\n",
              "      <th>time</th>\n",
              "      <th>cp_desc</th>\n",
              "      <th>ejection_fraction_desc</th>\n",
              "      <th>platelets_desc</th>\n",
              "      <th>sodium_desc</th>\n",
              "      <th>serum_creatinine_desc</th>\n",
              "    </tr>\n",
              "  </thead>\n",
              "  <tbody>\n",
              "    <tr>\n",
              "      <th>0</th>\n",
              "      <td>75</td>\n",
              "      <td>False</td>\n",
              "      <td>582</td>\n",
              "      <td>False</td>\n",
              "      <td>20</td>\n",
              "      <td>True</td>\n",
              "      <td>265000.00</td>\n",
              "      <td>1.9</td>\n",
              "      <td>130</td>\n",
              "      <td>Male</td>\n",
              "      <td>False</td>\n",
              "      <td>4</td>\n",
              "      <td>Abnormal</td>\n",
              "      <td>Abnormal</td>\n",
              "      <td>Normal</td>\n",
              "      <td>Abnormal</td>\n",
              "      <td>Abnormal</td>\n",
              "    </tr>\n",
              "    <tr>\n",
              "      <th>1</th>\n",
              "      <td>55</td>\n",
              "      <td>False</td>\n",
              "      <td>7861</td>\n",
              "      <td>False</td>\n",
              "      <td>38</td>\n",
              "      <td>False</td>\n",
              "      <td>263358.03</td>\n",
              "      <td>1.1</td>\n",
              "      <td>136</td>\n",
              "      <td>Male</td>\n",
              "      <td>False</td>\n",
              "      <td>6</td>\n",
              "      <td>Abnormal</td>\n",
              "      <td>Abnormal</td>\n",
              "      <td>Normal</td>\n",
              "      <td>Normal</td>\n",
              "      <td>Normal</td>\n",
              "    </tr>\n",
              "  </tbody>\n",
              "</table>\n",
              "</div>"
            ],
            "text/plain": [
              "   age  anaemia  ...  sodium_desc  serum_creatinine_desc\n",
              "0   75    False  ...     Abnormal               Abnormal\n",
              "1   55    False  ...       Normal                 Normal\n",
              "\n",
              "[2 rows x 17 columns]"
            ]
          },
          "metadata": {
            "tags": []
          },
          "execution_count": 11
        }
      ]
    },
    {
      "cell_type": "markdown",
      "metadata": {
        "id": "uhUp7FegqV2I"
      },
      "source": [
        "There is an imbalance between the target glass, so we use SMOTENC because in SMOTENC you can specify the categorical variables while  generating the new data points."
      ]
    },
    {
      "cell_type": "code",
      "metadata": {
        "id": "2Qi6iD-bRSx3",
        "outputId": "32af2993-3c26-43d6-ca5d-42eac1ca3506",
        "colab": {
          "base_uri": "https://localhost:8080/"
        }
      },
      "source": [
        "import imblearn\n",
        "from imblearn.over_sampling import SMOTENC\n",
        "smote = SMOTENC(random_state=1,categorical_features=[0,1,3,5,9,10,12,13,14,15,16])\n",
        "x_bal, y_bal = smote.fit_sample(x, y)\n",
        "x_bal = DataFrame(x_bal, columns = x.columns)\n",
        "print(Series(y_bal).value_counts())\n",
        "x_bal['serum_creatinine_desc'].value_counts()"
      ],
      "execution_count": 12,
      "outputs": [
        {
          "output_type": "stream",
          "text": [
            "/usr/local/lib/python3.6/dist-packages/sklearn/externals/six.py:31: FutureWarning: The module is deprecated in version 0.21 and will be removed in version 0.23 since we've dropped support for Python 2.7. Please rely on the official version of six (https://pypi.org/project/six/).\n",
            "  \"(https://pypi.org/project/six/).\", FutureWarning)\n",
            "/usr/local/lib/python3.6/dist-packages/sklearn/utils/deprecation.py:144: FutureWarning: The sklearn.neighbors.base module is  deprecated in version 0.22 and will be removed in version 0.24. The corresponding classes / functions should instead be imported from sklearn.neighbors. Anything that cannot be imported from sklearn.neighbors is now part of the private API.\n",
            "  warnings.warn(message, FutureWarning)\n",
            "/usr/local/lib/python3.6/dist-packages/sklearn/utils/deprecation.py:87: FutureWarning: Function safe_indexing is deprecated; safe_indexing is deprecated in version 0.22 and will be removed in version 0.24.\n",
            "  warnings.warn(msg, category=FutureWarning)\n",
            "/usr/local/lib/python3.6/dist-packages/sklearn/utils/deprecation.py:87: FutureWarning: Function safe_indexing is deprecated; safe_indexing is deprecated in version 0.22 and will be removed in version 0.24.\n",
            "  warnings.warn(msg, category=FutureWarning)\n"
          ],
          "name": "stderr"
        },
        {
          "output_type": "stream",
          "text": [
            "1    203\n",
            "0    203\n",
            "dtype: int64\n"
          ],
          "name": "stdout"
        },
        {
          "output_type": "execute_result",
          "data": {
            "text/plain": [
              "Normal      218\n",
              "Abnormal    188\n",
              "Name: serum_creatinine_desc, dtype: int64"
            ]
          },
          "metadata": {
            "tags": []
          },
          "execution_count": 12
        }
      ]
    },
    {
      "cell_type": "markdown",
      "metadata": {
        "id": "kpyk94bAq0id"
      },
      "source": [
        "Here  we create dummy variables for the newly engineered features.\n",
        "Remeber that Python recognises true and false as 1 and 0, so there would be no need for encoding those columns"
      ]
    },
    {
      "cell_type": "code",
      "metadata": {
        "id": "0-sErnrqRSyB",
        "outputId": "d86993e4-f169-4223-f504-67ab660ed820",
        "colab": {
          "base_uri": "https://localhost:8080/",
          "height": 235
        }
      },
      "source": [
        "encode = ['sex','cp_desc','ejection_fraction_desc','platelets_desc',\n",
        "         'sodium_desc','serum_creatinine_desc']\n",
        "x_bal = pd.get_dummies(x_bal,columns = encode, drop_first = True)\n",
        "print(x_bal.shape)\n",
        "x_bal.head()"
      ],
      "execution_count": 13,
      "outputs": [
        {
          "output_type": "stream",
          "text": [
            "(406, 17)\n"
          ],
          "name": "stdout"
        },
        {
          "output_type": "execute_result",
          "data": {
            "text/html": [
              "<div>\n",
              "<style scoped>\n",
              "    .dataframe tbody tr th:only-of-type {\n",
              "        vertical-align: middle;\n",
              "    }\n",
              "\n",
              "    .dataframe tbody tr th {\n",
              "        vertical-align: top;\n",
              "    }\n",
              "\n",
              "    .dataframe thead th {\n",
              "        text-align: right;\n",
              "    }\n",
              "</style>\n",
              "<table border=\"1\" class=\"dataframe\">\n",
              "  <thead>\n",
              "    <tr style=\"text-align: right;\">\n",
              "      <th></th>\n",
              "      <th>age</th>\n",
              "      <th>anaemia</th>\n",
              "      <th>creatinine_phosphokinase</th>\n",
              "      <th>diabetes</th>\n",
              "      <th>ejection_fraction</th>\n",
              "      <th>high_blood_pressure</th>\n",
              "      <th>platelets</th>\n",
              "      <th>serum_creatinine</th>\n",
              "      <th>serum_sodium</th>\n",
              "      <th>smoking</th>\n",
              "      <th>time</th>\n",
              "      <th>sex_Male</th>\n",
              "      <th>cp_desc_Normal</th>\n",
              "      <th>ejection_fraction_desc_Normal</th>\n",
              "      <th>platelets_desc_Normal</th>\n",
              "      <th>sodium_desc_Normal</th>\n",
              "      <th>serum_creatinine_desc_Normal</th>\n",
              "    </tr>\n",
              "  </thead>\n",
              "  <tbody>\n",
              "    <tr>\n",
              "      <th>0</th>\n",
              "      <td>75</td>\n",
              "      <td>False</td>\n",
              "      <td>582</td>\n",
              "      <td>False</td>\n",
              "      <td>20</td>\n",
              "      <td>True</td>\n",
              "      <td>265000</td>\n",
              "      <td>1.9</td>\n",
              "      <td>130</td>\n",
              "      <td>False</td>\n",
              "      <td>4</td>\n",
              "      <td>1</td>\n",
              "      <td>0</td>\n",
              "      <td>0</td>\n",
              "      <td>1</td>\n",
              "      <td>0</td>\n",
              "      <td>0</td>\n",
              "    </tr>\n",
              "    <tr>\n",
              "      <th>1</th>\n",
              "      <td>55</td>\n",
              "      <td>False</td>\n",
              "      <td>7861</td>\n",
              "      <td>False</td>\n",
              "      <td>38</td>\n",
              "      <td>False</td>\n",
              "      <td>263358</td>\n",
              "      <td>1.1</td>\n",
              "      <td>136</td>\n",
              "      <td>False</td>\n",
              "      <td>6</td>\n",
              "      <td>1</td>\n",
              "      <td>0</td>\n",
              "      <td>0</td>\n",
              "      <td>1</td>\n",
              "      <td>1</td>\n",
              "      <td>1</td>\n",
              "    </tr>\n",
              "    <tr>\n",
              "      <th>2</th>\n",
              "      <td>65</td>\n",
              "      <td>False</td>\n",
              "      <td>146</td>\n",
              "      <td>False</td>\n",
              "      <td>20</td>\n",
              "      <td>False</td>\n",
              "      <td>162000</td>\n",
              "      <td>1.3</td>\n",
              "      <td>129</td>\n",
              "      <td>True</td>\n",
              "      <td>7</td>\n",
              "      <td>1</td>\n",
              "      <td>0</td>\n",
              "      <td>0</td>\n",
              "      <td>1</td>\n",
              "      <td>0</td>\n",
              "      <td>0</td>\n",
              "    </tr>\n",
              "    <tr>\n",
              "      <th>3</th>\n",
              "      <td>50</td>\n",
              "      <td>True</td>\n",
              "      <td>111</td>\n",
              "      <td>False</td>\n",
              "      <td>20</td>\n",
              "      <td>False</td>\n",
              "      <td>210000</td>\n",
              "      <td>1.9</td>\n",
              "      <td>137</td>\n",
              "      <td>False</td>\n",
              "      <td>7</td>\n",
              "      <td>1</td>\n",
              "      <td>1</td>\n",
              "      <td>0</td>\n",
              "      <td>1</td>\n",
              "      <td>1</td>\n",
              "      <td>0</td>\n",
              "    </tr>\n",
              "    <tr>\n",
              "      <th>4</th>\n",
              "      <td>65</td>\n",
              "      <td>True</td>\n",
              "      <td>160</td>\n",
              "      <td>True</td>\n",
              "      <td>20</td>\n",
              "      <td>False</td>\n",
              "      <td>327000</td>\n",
              "      <td>2.7</td>\n",
              "      <td>116</td>\n",
              "      <td>False</td>\n",
              "      <td>8</td>\n",
              "      <td>0</td>\n",
              "      <td>0</td>\n",
              "      <td>0</td>\n",
              "      <td>1</td>\n",
              "      <td>0</td>\n",
              "      <td>0</td>\n",
              "    </tr>\n",
              "  </tbody>\n",
              "</table>\n",
              "</div>"
            ],
            "text/plain": [
              "  age anaemia  ... sodium_desc_Normal serum_creatinine_desc_Normal\n",
              "0  75   False  ...                  0                            0\n",
              "1  55   False  ...                  1                            1\n",
              "2  65   False  ...                  0                            0\n",
              "3  50    True  ...                  1                            0\n",
              "4  65    True  ...                  0                            0\n",
              "\n",
              "[5 rows x 17 columns]"
            ]
          },
          "metadata": {
            "tags": []
          },
          "execution_count": 13
        }
      ]
    },
    {
      "cell_type": "code",
      "metadata": {
        "id": "e3ZXL9NdZcbZ"
      },
      "source": [
        "#This seperation is simply for encoding, we dont want the categrocal Data to be expressed as decimal numbers after scaling,\n",
        "# i.e 1 to 1.0 and 0 to 0.0 so we seperate the dataset scale the data then concatenate the data back with its labels.\n",
        "data1 = x_bal[['age','creatinine_phosphokinase','ejection_fraction',\n",
        "              'platelets','serum_creatinine','serum_sodium',\n",
        "              'time']]\n",
        "data2 = x_bal.drop(['age','creatinine_phosphokinase','ejection_fraction',\n",
        "                   'platelets','serum_creatinine','serum_sodium',\n",
        "                   'time'], axis = 1)"
      ],
      "execution_count": 14,
      "outputs": []
    },
    {
      "cell_type": "code",
      "metadata": {
        "id": "6-1xyZquRSyF",
        "outputId": "460d88eb-13fc-4ff9-f837-749837146307",
        "colab": {
          "base_uri": "https://localhost:8080/",
          "height": 197
        }
      },
      "source": [
        "from sklearn.preprocessing import MinMaxScaler\n",
        "scaler = MinMaxScaler()\n",
        "data = DataFrame(scaler.fit_transform(data1), columns = data1.columns)\n",
        "data.tail()"
      ],
      "execution_count": 15,
      "outputs": [
        {
          "output_type": "execute_result",
          "data": {
            "text/html": [
              "<div>\n",
              "<style scoped>\n",
              "    .dataframe tbody tr th:only-of-type {\n",
              "        vertical-align: middle;\n",
              "    }\n",
              "\n",
              "    .dataframe tbody tr th {\n",
              "        vertical-align: top;\n",
              "    }\n",
              "\n",
              "    .dataframe thead th {\n",
              "        text-align: right;\n",
              "    }\n",
              "</style>\n",
              "<table border=\"1\" class=\"dataframe\">\n",
              "  <thead>\n",
              "    <tr style=\"text-align: right;\">\n",
              "      <th></th>\n",
              "      <th>age</th>\n",
              "      <th>creatinine_phosphokinase</th>\n",
              "      <th>ejection_fraction</th>\n",
              "      <th>platelets</th>\n",
              "      <th>serum_creatinine</th>\n",
              "      <th>serum_sodium</th>\n",
              "      <th>time</th>\n",
              "    </tr>\n",
              "  </thead>\n",
              "  <tbody>\n",
              "    <tr>\n",
              "      <th>401</th>\n",
              "      <td>0.636364</td>\n",
              "      <td>0.007003</td>\n",
              "      <td>0.410735</td>\n",
              "      <td>0.410348</td>\n",
              "      <td>0.305940</td>\n",
              "      <td>0.536490</td>\n",
              "      <td>0.052696</td>\n",
              "    </tr>\n",
              "    <tr>\n",
              "      <th>402</th>\n",
              "      <td>0.581818</td>\n",
              "      <td>0.013242</td>\n",
              "      <td>0.189294</td>\n",
              "      <td>0.259414</td>\n",
              "      <td>0.076316</td>\n",
              "      <td>0.686091</td>\n",
              "      <td>0.228345</td>\n",
              "    </tr>\n",
              "    <tr>\n",
              "      <th>403</th>\n",
              "      <td>0.363636</td>\n",
              "      <td>0.026458</td>\n",
              "      <td>0.046115</td>\n",
              "      <td>0.227042</td>\n",
              "      <td>0.099072</td>\n",
              "      <td>0.651304</td>\n",
              "      <td>0.229445</td>\n",
              "    </tr>\n",
              "    <tr>\n",
              "      <th>404</th>\n",
              "      <td>0.836364</td>\n",
              "      <td>0.071319</td>\n",
              "      <td>0.358661</td>\n",
              "      <td>0.288833</td>\n",
              "      <td>0.149438</td>\n",
              "      <td>0.600000</td>\n",
              "      <td>0.330530</td>\n",
              "    </tr>\n",
              "    <tr>\n",
              "      <th>405</th>\n",
              "      <td>0.636364</td>\n",
              "      <td>0.018502</td>\n",
              "      <td>0.728963</td>\n",
              "      <td>0.287749</td>\n",
              "      <td>0.120774</td>\n",
              "      <td>0.695946</td>\n",
              "      <td>0.034677</td>\n",
              "    </tr>\n",
              "  </tbody>\n",
              "</table>\n",
              "</div>"
            ],
            "text/plain": [
              "          age  creatinine_phosphokinase  ...  serum_sodium      time\n",
              "401  0.636364                  0.007003  ...      0.536490  0.052696\n",
              "402  0.581818                  0.013242  ...      0.686091  0.228345\n",
              "403  0.363636                  0.026458  ...      0.651304  0.229445\n",
              "404  0.836364                  0.071319  ...      0.600000  0.330530\n",
              "405  0.636364                  0.018502  ...      0.695946  0.034677\n",
              "\n",
              "[5 rows x 7 columns]"
            ]
          },
          "metadata": {
            "tags": []
          },
          "execution_count": 15
        }
      ]
    },
    {
      "cell_type": "code",
      "metadata": {
        "id": "BtMsBtCUaVsl",
        "outputId": "c15c356c-53be-4aa5-daa6-2d3508cfef33",
        "colab": {
          "base_uri": "https://localhost:8080/",
          "height": 217
        }
      },
      "source": [
        "#Here we simply re join the scaled data back to its labels. \n",
        "x = pd.concat([data,data2], axis = 1)\n",
        "x.head()"
      ],
      "execution_count": 16,
      "outputs": [
        {
          "output_type": "execute_result",
          "data": {
            "text/html": [
              "<div>\n",
              "<style scoped>\n",
              "    .dataframe tbody tr th:only-of-type {\n",
              "        vertical-align: middle;\n",
              "    }\n",
              "\n",
              "    .dataframe tbody tr th {\n",
              "        vertical-align: top;\n",
              "    }\n",
              "\n",
              "    .dataframe thead th {\n",
              "        text-align: right;\n",
              "    }\n",
              "</style>\n",
              "<table border=\"1\" class=\"dataframe\">\n",
              "  <thead>\n",
              "    <tr style=\"text-align: right;\">\n",
              "      <th></th>\n",
              "      <th>age</th>\n",
              "      <th>creatinine_phosphokinase</th>\n",
              "      <th>ejection_fraction</th>\n",
              "      <th>platelets</th>\n",
              "      <th>serum_creatinine</th>\n",
              "      <th>serum_sodium</th>\n",
              "      <th>time</th>\n",
              "      <th>anaemia</th>\n",
              "      <th>diabetes</th>\n",
              "      <th>high_blood_pressure</th>\n",
              "      <th>smoking</th>\n",
              "      <th>sex_Male</th>\n",
              "      <th>cp_desc_Normal</th>\n",
              "      <th>ejection_fraction_desc_Normal</th>\n",
              "      <th>platelets_desc_Normal</th>\n",
              "      <th>sodium_desc_Normal</th>\n",
              "      <th>serum_creatinine_desc_Normal</th>\n",
              "    </tr>\n",
              "  </thead>\n",
              "  <tbody>\n",
              "    <tr>\n",
              "      <th>0</th>\n",
              "      <td>0.636364</td>\n",
              "      <td>0.071319</td>\n",
              "      <td>0.090909</td>\n",
              "      <td>0.290823</td>\n",
              "      <td>0.157303</td>\n",
              "      <td>0.485714</td>\n",
              "      <td>0.000000</td>\n",
              "      <td>False</td>\n",
              "      <td>False</td>\n",
              "      <td>True</td>\n",
              "      <td>False</td>\n",
              "      <td>1</td>\n",
              "      <td>0</td>\n",
              "      <td>0</td>\n",
              "      <td>1</td>\n",
              "      <td>0</td>\n",
              "      <td>0</td>\n",
              "    </tr>\n",
              "    <tr>\n",
              "      <th>1</th>\n",
              "      <td>0.272727</td>\n",
              "      <td>1.000000</td>\n",
              "      <td>0.363636</td>\n",
              "      <td>0.288833</td>\n",
              "      <td>0.067416</td>\n",
              "      <td>0.657143</td>\n",
              "      <td>0.007117</td>\n",
              "      <td>False</td>\n",
              "      <td>False</td>\n",
              "      <td>False</td>\n",
              "      <td>False</td>\n",
              "      <td>1</td>\n",
              "      <td>0</td>\n",
              "      <td>0</td>\n",
              "      <td>1</td>\n",
              "      <td>1</td>\n",
              "      <td>1</td>\n",
              "    </tr>\n",
              "    <tr>\n",
              "      <th>2</th>\n",
              "      <td>0.454545</td>\n",
              "      <td>0.015693</td>\n",
              "      <td>0.090909</td>\n",
              "      <td>0.165960</td>\n",
              "      <td>0.089888</td>\n",
              "      <td>0.457143</td>\n",
              "      <td>0.010676</td>\n",
              "      <td>False</td>\n",
              "      <td>False</td>\n",
              "      <td>False</td>\n",
              "      <td>True</td>\n",
              "      <td>1</td>\n",
              "      <td>0</td>\n",
              "      <td>0</td>\n",
              "      <td>1</td>\n",
              "      <td>0</td>\n",
              "      <td>0</td>\n",
              "    </tr>\n",
              "    <tr>\n",
              "      <th>3</th>\n",
              "      <td>0.181818</td>\n",
              "      <td>0.011227</td>\n",
              "      <td>0.090909</td>\n",
              "      <td>0.224148</td>\n",
              "      <td>0.157303</td>\n",
              "      <td>0.685714</td>\n",
              "      <td>0.010676</td>\n",
              "      <td>True</td>\n",
              "      <td>False</td>\n",
              "      <td>False</td>\n",
              "      <td>False</td>\n",
              "      <td>1</td>\n",
              "      <td>1</td>\n",
              "      <td>0</td>\n",
              "      <td>1</td>\n",
              "      <td>1</td>\n",
              "      <td>0</td>\n",
              "    </tr>\n",
              "    <tr>\n",
              "      <th>4</th>\n",
              "      <td>0.454545</td>\n",
              "      <td>0.017479</td>\n",
              "      <td>0.090909</td>\n",
              "      <td>0.365984</td>\n",
              "      <td>0.247191</td>\n",
              "      <td>0.085714</td>\n",
              "      <td>0.014235</td>\n",
              "      <td>True</td>\n",
              "      <td>True</td>\n",
              "      <td>False</td>\n",
              "      <td>False</td>\n",
              "      <td>0</td>\n",
              "      <td>0</td>\n",
              "      <td>0</td>\n",
              "      <td>1</td>\n",
              "      <td>0</td>\n",
              "      <td>0</td>\n",
              "    </tr>\n",
              "  </tbody>\n",
              "</table>\n",
              "</div>"
            ],
            "text/plain": [
              "        age  ...  serum_creatinine_desc_Normal\n",
              "0  0.636364  ...                             0\n",
              "1  0.272727  ...                             1\n",
              "2  0.454545  ...                             0\n",
              "3  0.181818  ...                             0\n",
              "4  0.454545  ...                             0\n",
              "\n",
              "[5 rows x 17 columns]"
            ]
          },
          "metadata": {
            "tags": []
          },
          "execution_count": 16
        }
      ]
    },
    {
      "cell_type": "code",
      "metadata": {
        "id": "KzTVwVfMRSyL"
      },
      "source": [
        "from sklearn.model_selection import train_test_split\n",
        "x_train,x_test,y_train,y_test = train_test_split(x,y_bal, test_size = 0.2, random_state = 0)"
      ],
      "execution_count": 17,
      "outputs": []
    },
    {
      "cell_type": "code",
      "metadata": {
        "scrolled": true,
        "id": "cqF2bmSnRSyQ"
      },
      "source": [
        "from sklearn.model_selection import GridSearchCV\n",
        "from sklearn.ensemble import RandomForestClassifier\n",
        "#grid = GridSearchCV(RandomForestClassifier(),{'max_depth':range(1,15), 'n_estimators': [50, 100,300,500],\n",
        " #                    'max_features': ['auto', 'sqrt', 'log'], \n",
        "  #                   'min_samples_split': [2,3,5,7,9],'min_samples_leaf': [1,2,4,6,8]},\n",
        "   #                   cv = 3, n_jobs = 2, scoring = 'accuracy', verbose = 1)\n",
        "\n",
        "#grid.fit(x_train,y_train)"
      ],
      "execution_count": 18,
      "outputs": []
    },
    {
      "cell_type": "code",
      "metadata": {
        "id": "0WNzNU0kRSyV"
      },
      "source": [
        "#i commented the grid search because i have determined its optimum parameters, using\n",
        "#grid.best_params_, and its these optimum parameters that were used to train the model.\n",
        "#grid.best_params_\n",
        "#model = grid.best_estimator_\n",
        "#model.fit(x_train,y_train)predict(x_test)"
      ],
      "execution_count": 19,
      "outputs": []
    },
    {
      "cell_type": "code",
      "metadata": {
        "id": "Ta7v7KtQRSya",
        "outputId": "43f7dbba-a238-48b0-8d75-6b33657e004c",
        "colab": {
          "base_uri": "https://localhost:8080/"
        }
      },
      "source": [
        "from sklearn.ensemble import RandomForestClassifier\n",
        "classifier = RandomForestClassifier(max_depth = 7, max_features= 'sqrt',random_state = 4,\n",
        "                                min_samples_leaf = 1,\n",
        "                                min_samples_split = 5,n_estimators = 100)\n",
        "classifier.fit(x_train, y_train)"
      ],
      "execution_count": 20,
      "outputs": [
        {
          "output_type": "execute_result",
          "data": {
            "text/plain": [
              "RandomForestClassifier(bootstrap=True, ccp_alpha=0.0, class_weight=None,\n",
              "                       criterion='gini', max_depth=7, max_features='sqrt',\n",
              "                       max_leaf_nodes=None, max_samples=None,\n",
              "                       min_impurity_decrease=0.0, min_impurity_split=None,\n",
              "                       min_samples_leaf=1, min_samples_split=5,\n",
              "                       min_weight_fraction_leaf=0.0, n_estimators=100,\n",
              "                       n_jobs=None, oob_score=False, random_state=4, verbose=0,\n",
              "                       warm_start=False)"
            ]
          },
          "metadata": {
            "tags": []
          },
          "execution_count": 20
        }
      ]
    },
    {
      "cell_type": "code",
      "metadata": {
        "id": "uefIXRxgRSyf"
      },
      "source": [
        "y_pred = classifier.predict(x_test)"
      ],
      "execution_count": 21,
      "outputs": []
    },
    {
      "cell_type": "code",
      "metadata": {
        "id": "eRERUIHORSyj",
        "outputId": "cb383b6d-afcb-4098-a51b-7bb5c8b3ac79",
        "colab": {
          "base_uri": "https://localhost:8080/"
        }
      },
      "source": [
        "from sklearn.metrics import classification_report, recall_score, accuracy_score,precision_score, f1_score, confusion_matrix\n",
        "recall = recall_score(y_test,y_pred)\n",
        "accuracy = accuracy_score(y_test,y_pred)\n",
        "precision = precision_score(y_test,y_pred)\n",
        "f1score = f1_score(y_test,y_pred)\n",
        "print('the Recall for smoted RandomForest is:{}'.format(round(recall,4)))\n",
        "print(f'the Accuracy for smoted RandomForest is:{round(accuracy,4)}')\n",
        "print('the Precision for smoted RandomForest is: %s' %(round(precision,4)))\n",
        "print(f'the F1_score for smoted RandomForest is:{round(f1score,4)}')"
      ],
      "execution_count": 22,
      "outputs": [
        {
          "output_type": "stream",
          "text": [
            "the Recall for smoted RandomForest is:0.9787\n",
            "the Accuracy for smoted RandomForest is:0.9268\n",
            "the Precision for smoted RandomForest is: 0.902\n",
            "the F1_score for smoted RandomForest is:0.9388\n"
          ],
          "name": "stdout"
        }
      ]
    },
    {
      "cell_type": "code",
      "metadata": {
        "id": "U4A5PjDyRSyo",
        "outputId": "2b746e1a-acfa-46fd-b8a2-05591215196e",
        "colab": {
          "base_uri": "https://localhost:8080/"
        }
      },
      "source": [
        "report = classification_report(y_test,y_pred)\n",
        "print(report)"
      ],
      "execution_count": 23,
      "outputs": [
        {
          "output_type": "stream",
          "text": [
            "              precision    recall  f1-score   support\n",
            "\n",
            "           0       0.97      0.86      0.91        35\n",
            "           1       0.90      0.98      0.94        47\n",
            "\n",
            "    accuracy                           0.93        82\n",
            "   macro avg       0.93      0.92      0.92        82\n",
            "weighted avg       0.93      0.93      0.93        82\n",
            "\n"
          ],
          "name": "stdout"
        }
      ]
    },
    {
      "cell_type": "code",
      "metadata": {
        "id": "dzPmpq5fRSyz",
        "outputId": "c51cadb2-a6a4-441b-ec25-81ae4108058c",
        "colab": {
          "base_uri": "https://localhost:8080/"
        }
      },
      "source": [
        "matrix = confusion_matrix(y_test,y_pred)\n",
        "print(matrix)"
      ],
      "execution_count": 24,
      "outputs": [
        {
          "output_type": "stream",
          "text": [
            "[[30  5]\n",
            " [ 1 46]]\n"
          ],
          "name": "stdout"
        }
      ]
    },
    {
      "cell_type": "code",
      "metadata": {
        "id": "dD7x_tfJRSzF"
      },
      "source": [
        "import pickle\n",
        "pickle.dump(classifier, open('heart_main.pkl','wb'))"
      ],
      "execution_count": 28,
      "outputs": []
    }
  ]
}